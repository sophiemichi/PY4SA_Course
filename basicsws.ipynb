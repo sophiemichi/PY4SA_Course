{
 "cells": [
  {
   "cell_type": "code",
   "execution_count": 1,
   "id": "01d3adfa-d469-4eaf-ade4-6db8b597d0d4",
   "metadata": {},
   "outputs": [
    {
     "name": "stdout",
     "output_type": "stream",
     "text": [
      "1\n",
      "Python\n",
      "2\n",
      "Spatial Data\n",
      "3\n",
      "Web GIS\n"
     ]
    }
   ],
   "source": [
    "x = 1\n",
    "y = \"Python\"\n",
    "x1 = 2\n",
    "y1 = \"Spatial Data\"\n",
    "_x = 3\n",
    "_y = \"Web GIS\"\n",
    "print(x)\n",
    "print(y)\n",
    "print(x1)\n",
    "print(y1)\n",
    "print(_x)\n",
    "print(_y)"
   ]
  },
  {
   "cell_type": "code",
   "execution_count": 2,
   "id": "77cf8155-a893-4651-af39-c7acaf675c40",
   "metadata": {},
   "outputs": [
    {
     "name": "stdout",
     "output_type": "stream",
     "text": [
      "1\n",
      "2\n",
      "3\n"
     ]
    }
   ],
   "source": [
    "x, x1, _x = 1, 2, 3\n",
    "print(x)\n",
    "print(x1)\n",
    "print(_x)"
   ]
  },
  {
   "cell_type": "code",
   "execution_count": 3,
   "id": "06359e52-2652-4dee-bb22-f7a5b78a7422",
   "metadata": {},
   "outputs": [
    {
     "name": "stdout",
     "output_type": "stream",
     "text": [
      "2\n",
      "5\n",
      "2\n",
      "-1\n",
      "2\n",
      "6\n",
      "2\n",
      "0.6666666666666666\n",
      "2\n",
      "8\n"
     ]
    }
   ],
   "source": [
    "x = 2\n",
    "print(x)\n",
    "x += 3\n",
    "print(x)\n",
    "\n",
    "x = 2\n",
    "print(x)\n",
    "x -= 3\n",
    "print(x)\n",
    "\n",
    "x = 2\n",
    "print(x)\n",
    "x *= 3\n",
    "print(x)\n",
    "\n",
    "x = 2\n",
    "print(x)\n",
    "x /= 3\n",
    "print(x)\n",
    "\n",
    "x = 2\n",
    "print(x)\n",
    "x **= 3\n",
    "print(x)"
   ]
  },
  {
   "cell_type": "code",
   "execution_count": 4,
   "id": "fd7cce27-b3e6-4048-9aea-741defb59f2a",
   "metadata": {},
   "outputs": [
    {
     "name": "stdout",
     "output_type": "stream",
     "text": [
      "[5, 6, 7, 8]\n",
      "[5, 6, 7, 8]\n",
      "True\n",
      "4487889792\n",
      "4487889792\n"
     ]
    }
   ],
   "source": [
    "a = [5, 6, 7]\n",
    "b = a\n",
    "a.append(8)\n",
    "print(a)\n",
    "print(b)\n",
    "\n",
    "print(a is b)\n",
    "print(id(a))\n",
    "print(id(b))"
   ]
  },
  {
   "cell_type": "code",
   "execution_count": 5,
   "id": "e02edde1-feb8-45e0-9f46-a02835873fbd",
   "metadata": {},
   "outputs": [
    {
     "name": "stdout",
     "output_type": "stream",
     "text": [
      "[5, 6, 7, 8]\n",
      "[5, 6, 7]\n",
      "False\n",
      "4487889920\n",
      "4487889664\n"
     ]
    }
   ],
   "source": [
    "import copy\n",
    "a = [5, 6, 7]\n",
    "b = copy.deepcopy(a)\n",
    "a.append(8)\n",
    "print(a)\n",
    "print(b)\n",
    "\n",
    "print(a is b)\n",
    "print(id(a))\n",
    "print(id(b))"
   ]
  },
  {
   "cell_type": "code",
   "execution_count": 9,
   "id": "bf5ae498-72ea-4a4a-a362-ff0190cf5f53",
   "metadata": {},
   "outputs": [],
   "source": [
    "# Single-line comment\n",
    "x = 1\n",
    "y = 2 \n",
    "#Another single-line comment\n",
    "#A\n",
    "#multi-line\n",
    "#comment\n",
    "z = 3\n",
    "\"\"\"\n",
    "Another multi-line comment\n",
    "\"\"\"\n",
    "w = 4"
   ]
  },
  {
   "cell_type": "code",
   "execution_count": 10,
   "id": "99c4935b-ad80-4669-97ea-758ac1770b50",
   "metadata": {},
   "outputs": [
    {
     "name": "stdout",
     "output_type": "stream",
     "text": [
      "<class 'int'>\n",
      "<class 'float'>\n",
      "<class 'str'>\n"
     ]
    }
   ],
   "source": [
    "#Create a variable and check the data type\n",
    "x = 1\n",
    "print(type(x))\n",
    "#Change the data type\n",
    "x = float(x)\n",
    "print(type(x))\n",
    "x= str(x)\n",
    "print(type(x))"
   ]
  },
  {
   "cell_type": "code",
   "execution_count": 11,
   "id": "4d10cd2a-6b35-400a-b389-0f50f8922260",
   "metadata": {},
   "outputs": [
    {
     "name": "stdout",
     "output_type": "stream",
     "text": [
      "2\n",
      "11\n"
     ]
    }
   ],
   "source": [
    "#Create variables\n",
    "x = 1\n",
    "y = \"1\"\n",
    "print(x + x)\n",
    "print(y + y)"
   ]
  },
  {
   "cell_type": "code",
   "execution_count": 12,
   "id": "e759457b-4056-4297-ab4c-b9f60e97e807",
   "metadata": {},
   "outputs": [
    {
     "name": "stdout",
     "output_type": "stream",
     "text": [
      "7\n",
      "1\n",
      "12\n",
      "1.3333333333333333\n",
      "1\n",
      "64\n",
      "1\n"
     ]
    }
   ],
   "source": [
    "x = 4\n",
    "y = 3\n",
    "print(x + y) #Addition\n",
    "print(x - y) #Subtraction\n",
    "print(x * y) #Multiplication\n",
    "print(x / y) #Division\n",
    "print(x % y) #Modulus\n",
    "print(x ** y) #Exponentiation\n",
    "print(x // y) #Floor Division"
   ]
  },
  {
   "cell_type": "code",
   "execution_count": 13,
   "id": "0c36b7d9-1491-4bd2-876c-249394d5c300",
   "metadata": {},
   "outputs": [
    {
     "name": "stdout",
     "output_type": "stream",
     "text": [
      "Python is great 2\n"
     ]
    }
   ],
   "source": [
    "x = \"Python\"\n",
    "y = \"is great\" #Must use double quotes since a single quote is use in the string\n",
    "z = \"2\" #Number treated as a string\n",
    "print (x,y,z)"
   ]
  },
  {
   "cell_type": "code",
   "execution_count": 14,
   "id": "a63a3b84-9f0a-45f8-bdf2-e2d366ecaf92",
   "metadata": {},
   "outputs": [
    {
     "name": "stdout",
     "output_type": "stream",
     "text": [
      "GG3209\n",
      "Spatial\n",
      "Analysis\n",
      "GIS\n"
     ]
    }
   ],
   "source": [
    "x = \"GG3209 Spatial Analysis with GIS\"\n",
    "print(x[0:6])\n",
    "print(x[7:14])\n",
    "print(x[15:23])\n",
    "print(x[-3:])"
   ]
  },
  {
   "cell_type": "code",
   "execution_count": 15,
   "id": "df2a3a6a-fa4f-4371-b88d-75f67f4f5c12",
   "metadata": {},
   "outputs": [
    {
     "name": "stdout",
     "output_type": "stream",
     "text": [
      "GG3209 Spatial Analysis With Python\n",
      "35\n"
     ]
    }
   ],
   "source": [
    "x = \"Spatial\"\n",
    "xx=\"GG\"\n",
    "y = 3209\n",
    "z = \"Analysis\"\n",
    "w = \"With Python\"\n",
    "strng1 = xx + str(y) + \" \"+ x + \" \" + z + \" \" + w\n",
    "print(strng1)\n",
    "print(len(strng1))"
   ]
  },
  {
   "cell_type": "code",
   "execution_count": 16,
   "id": "d19bd0cc-4f8a-4fb8-95dc-724e74af3741",
   "metadata": {},
   "outputs": [
    {
     "name": "stdout",
     "output_type": "stream",
     "text": [
      "GG3209 SPATIAL ANALYSIS WITH GIS\n",
      "gg3209 spatial analysis with gis\n",
      "['GG3209', 'Spatial', 'Analysis', 'with', 'GIS']\n"
     ]
    }
   ],
   "source": [
    "x = \"GG3209 Spatial Analysis with GIS\"\n",
    "print(x.upper())\n",
    "print(x.lower())\n",
    "lst1 = x.split(\" \")\n",
    "print(lst1)"
   ]
  },
  {
   "cell_type": "code",
   "execution_count": 17,
   "id": "53af5f76-9753-4ede-8058-86efa8889630",
   "metadata": {},
   "outputs": [
    {
     "name": "stdout",
     "output_type": "stream",
     "text": [
      "False\n",
      "False\n",
      "True\n",
      "True\n",
      "False\n",
      "True\n"
     ]
    }
   ],
   "source": [
    "x = 3\n",
    "y = 7\n",
    "z = 2\n",
    "print(x == 7)\n",
    "print(x > y)\n",
    "print(x < y)\n",
    "\n",
    "print(x < y and x > z)\n",
    "print(x < y and x < z)\n",
    "print(x < y or x < z)"
   ]
  },
  {
   "cell_type": "code",
   "execution_count": 18,
   "id": "0f17f676-d2c6-41f6-9c33-52f6e430002e",
   "metadata": {},
   "outputs": [
    {
     "name": "stdout",
     "output_type": "stream",
     "text": [
      "<class 'str'>\n",
      "<class 'bool'>\n"
     ]
    }
   ],
   "source": [
    "x = \"True\"\n",
    "y = True\n",
    "print(type(x))\n",
    "print(type(y))"
   ]
  },
  {
   "cell_type": "code",
   "execution_count": 19,
   "id": "e6edd8cf-2eec-4816-8359-4ebf5d9e74cf",
   "metadata": {},
   "outputs": [
    {
     "name": "stdout",
     "output_type": "stream",
     "text": [
      "6\n",
      "[6, 7, 8]\n",
      "['B', 'C', 'D']\n",
      "['A', 'B', 'C']\n",
      "['D', 'E']\n",
      "<class 'int'>\n",
      "<class 'str'>\n",
      "<class 'bool'>\n"
     ]
    }
   ],
   "source": [
    "lst1 = [6, 7, 8, 9, 11, 2, 0]\n",
    "lst2 = [\"A\", \"B\", \"C\", \"D\", \"E\"]\n",
    "lst3 = [True, False, True, True, True, False]\n",
    "print(lst1[0])\n",
    "print(lst1[0:3])\n",
    "print(lst2[-4:-1])\n",
    "print(lst2[:3])\n",
    "print(lst2[3:])\n",
    "lst4 = [1, 2, \"A\", \"B\", True]\n",
    "print(type(lst4[0]))\n",
    "print(type(lst4[2]))\n",
    "print(type(lst4[4]))"
   ]
  },
  {
   "cell_type": "code",
   "execution_count": 20,
   "id": "b569d1e4-7b72-4031-a7c2-2d57c1e4fb65",
   "metadata": {},
   "outputs": [
    {
     "name": "stdout",
     "output_type": "stream",
     "text": [
      "5\n",
      "1\n"
     ]
    }
   ],
   "source": [
    "lst1 = [\"A\", \"B\", \"C\", \"D\", \"E\"]\n",
    "print(len(lst1))\n",
    "print(len(lst1[0]))"
   ]
  },
  {
   "cell_type": "code",
   "execution_count": 21,
   "id": "01162964-a67d-4fb3-9233-3d8593e96ae4",
   "metadata": {},
   "outputs": [
    {
     "name": "stdout",
     "output_type": "stream",
     "text": [
      "['A', 'B', 'C', 'D', 'E', 'F']\n",
      "['A', 'B', 'C', 'D', 'E']\n",
      "['A', 'B', 'ADD', 'C', 'D', 'E']\n",
      "['A', 'B', 'C', 'D', 'E']\n"
     ]
    }
   ],
   "source": [
    "lst1 = [\"A\", \"B\", \"C\", \"D\", \"E\"]\n",
    "lst1.append(\"F\") #Add item to list\n",
    "print(lst1)\n",
    "lst1.remove(\"F\") #Remove item from a list\n",
    "print(lst1) \n",
    "lst1.insert(2, \"ADD\") #Add item to list at defined position \n",
    "print(lst1)\n",
    "lst1.pop(2) #Remove item at specified index or the last item if no index is provided\n",
    "print(lst1)"
   ]
  },
  {
   "cell_type": "code",
   "execution_count": 22,
   "id": "c98cfe74-13a7-4a81-ae8e-3ee8add3beb0",
   "metadata": {},
   "outputs": [
    {
     "name": "stdout",
     "output_type": "stream",
     "text": [
      "['A', 'B', 'C', 'D', 'E']\n",
      "['A', 'B', 'C', 'D', 'E']\n",
      "['A', 'B', 'C', 'D', 'E', 'F']\n",
      "['A', 'B', 'C', 'D', 'E']\n"
     ]
    }
   ],
   "source": [
    "lst1 = [\"A\", \"B\", \"C\", \"D\", \"E\"]\n",
    "lst2 = lst1\n",
    "lst3 = lst1.copy()\n",
    "print(lst2)\n",
    "print(lst3)\n",
    "lst1.append(\"F\")\n",
    "print(lst2)\n",
    "print(lst3)"
   ]
  },
  {
   "cell_type": "code",
   "execution_count": 23,
   "id": "97a05797-ce5b-474a-9019-28756ee7e578",
   "metadata": {},
   "outputs": [
    {
     "name": "stdout",
     "output_type": "stream",
     "text": [
      "['A', 'B', 'C']\n",
      "['D', 'E', 'F']\n",
      "['A', 'B', 'C', 'D', 'E', 'F']\n",
      "['A', 'B', 'C', 'D', 'E', 'F']\n"
     ]
    }
   ],
   "source": [
    "lst1 = [\"A\", \"B\", \"C\"]\n",
    "lst2 = [\"D\", \"E\", \"F\"]\n",
    "lst3 = lst1 + lst2\n",
    "print(lst1)\n",
    "print(lst2)\n",
    "print(lst3)\n",
    "lst1.extend(lst2)\n",
    "print(lst1)"
   ]
  },
  {
   "cell_type": "code",
   "execution_count": 24,
   "id": "5dff2d5b-302c-4618-a752-a23dd92bca80",
   "metadata": {},
   "outputs": [
    {
     "name": "stdout",
     "output_type": "stream",
     "text": [
      "['D', 'E', 'F', ['A', 'B', 'C']]\n"
     ]
    }
   ],
   "source": [
    "lst1 = [\"A\", \"B\", \"C\"]\n",
    "lst2 = [\"D\", \"E\", \"F\", lst1]\n",
    "print(lst2)"
   ]
  },
  {
   "cell_type": "code",
   "execution_count": 25,
   "id": "7811148a-7728-44cf-913e-605ad29300d8",
   "metadata": {},
   "outputs": [
    {
     "name": "stdout",
     "output_type": "stream",
     "text": [
      "<class 'tuple'>\n"
     ]
    }
   ],
   "source": [
    "t1 = (1, 3, 4, 7)\n",
    "print(type(t1))"
   ]
  },
  {
   "cell_type": "code",
   "execution_count": 26,
   "id": "d01b6192-4798-4b2c-9e5b-20b5f5267895",
   "metadata": {},
   "outputs": [
    {
     "name": "stdout",
     "output_type": "stream",
     "text": [
      "{'code': 'GG3209', 'Name': 'Spatial Analysis with Python'}\n",
      "Spatial Analysis with Python\n",
      "{'code': 'GG3209', 'Name': 'Spatial Analysis with Python', 'Code': 461}\n"
     ]
    }
   ],
   "source": [
    "cls = {\"code\": \"GG3209\", \"Name\":\"Spatial Analysis with Python\" }\n",
    "print(cls)\n",
    "print(cls[\"Name\"])\n",
    "cls[\"Code\"] = 461\n",
    "print(cls)"
   ]
  },
  {
   "cell_type": "code",
   "execution_count": 27,
   "id": "a8b0a53d-b387-4548-9ed6-a1b4008a5fc9",
   "metadata": {},
   "outputs": [
    {
     "name": "stdout",
     "output_type": "stream",
     "text": [
      "{'class1': {'prefix': 'GG', 'Number': 3209, 'Name': 'Spatial Analysis with Python'}, 'class2': {'prefix': 'GG', 'Number': 3210, 'Name': 'Advanced Analysis with Python'}, 'class3': {'prefix': 'GG', 'Number': 3211, 'Name': 'Introduction to Remote Sensing'}, 'class4': {'prefix': 'GG', 'Number': 3212, 'Name': 'Web GIS'}}\n",
      "{'prefix': 'GG', 'Number': 3209, 'Name': 'Spatial Analysis with Python'}\n",
      "Spatial Analysis with Python\n"
     ]
    }
   ],
   "source": [
    "cls1 = {\"prefix\" : \"GG\", \"Number\" : 3209, \"Name\": \"Spatial Analysis with Python\"}\n",
    "cls2 = {\"prefix\" : \"GG\", \"Number\" : 3210, \"Name\": \"Advanced Analysis with Python\"}\n",
    "cls3 = {\"prefix\" : \"GG\", \"Number\" : 3211, \"Name\": \"Introduction to Remote Sensing\"}\n",
    "cls4 = {\"prefix\" : \"GG\", \"Number\" : 3212, \"Name\": \"Web GIS\"}\n",
    "clsT = {\n",
    "    \"class1\" : cls1,\n",
    "    \"class2\" : cls2,\n",
    "    \"class3\" : cls3,\n",
    "    \"class4\" : cls4\n",
    "}\n",
    "print(clsT)\n",
    "print(clsT[\"class1\"])\n",
    "print(clsT[\"class1\"][\"Name\"])"
   ]
  },
  {
   "cell_type": "code",
   "execution_count": 28,
   "id": "771c8d1c-80ee-40e0-8189-477ef1529548",
   "metadata": {},
   "outputs": [
    {
     "name": "stdout",
     "output_type": "stream",
     "text": [
      "1\n",
      "3\n"
     ]
    }
   ],
   "source": [
    "my_array = [1, 2, 3, 4, 5]\n",
    "print(my_array[0])   # Output: 1\n",
    "print(my_array[2])   # Output: 3"
   ]
  },
  {
   "cell_type": "code",
   "execution_count": 29,
   "id": "e93f4bf3-55a8-47f7-b42f-838c0b3c01f3",
   "metadata": {},
   "outputs": [
    {
     "name": "stdout",
     "output_type": "stream",
     "text": [
      "[1, 7, 3, 4, 5]\n"
     ]
    }
   ],
   "source": [
    "my_array[1] = 7\n",
    "print(my_array)      # Output: [1, 7, 3, 4, 5]\n"
   ]
  },
  {
   "cell_type": "code",
   "execution_count": 30,
   "id": "8ff2088b-7fb7-4e80-b84a-05c06bfac74e",
   "metadata": {},
   "outputs": [
    {
     "name": "stdout",
     "output_type": "stream",
     "text": [
      "[1, 7, 3, 4, 5]\n"
     ]
    }
   ],
   "source": [
    "my_array[1] = 7\n",
    "print(my_array)      # Output: [1, 7, 3, 4, 5]\n"
   ]
  }
 ],
 "metadata": {
  "kernelspec": {
   "display_name": "Python 3 (ipykernel)",
   "language": "python",
   "name": "python3"
  },
  "language_info": {
   "codemirror_mode": {
    "name": "ipython",
    "version": 3
   },
   "file_extension": ".py",
   "mimetype": "text/x-python",
   "name": "python",
   "nbconvert_exporter": "python",
   "pygments_lexer": "ipython3",
   "version": "3.10.9"
  }
 },
 "nbformat": 4,
 "nbformat_minor": 5
}
